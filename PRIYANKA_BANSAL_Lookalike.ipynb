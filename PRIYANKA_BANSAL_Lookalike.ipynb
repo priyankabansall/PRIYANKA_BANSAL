{
  "nbformat": 4,
  "nbformat_minor": 0,
  "metadata": {
    "colab": {
      "provenance": [],
      "authorship_tag": "ABX9TyPunhEflClQNAUBtsfetwUc",
      "include_colab_link": true
    },
    "kernelspec": {
      "name": "python3",
      "display_name": "Python 3"
    },
    "language_info": {
      "name": "python"
    }
  },
  "cells": [
    {
      "cell_type": "markdown",
      "metadata": {
        "id": "view-in-github",
        "colab_type": "text"
      },
      "source": [
        "<a href=\"https://colab.research.google.com/github/priyankabansall/PRIYANKA_BANSAL/blob/main/PRIYANKA_BANSAL_Lookalike.ipynb\" target=\"_parent\"><img src=\"https://colab.research.google.com/assets/colab-badge.svg\" alt=\"Open In Colab\"/></a>"
      ]
    },
    {
      "cell_type": "code",
      "source": [
        "import pandas as pd\n",
        "import numpy as np\n",
        "from sklearn.preprocessing import StandardScaler, OneHotEncoder\n",
        "from sklearn.metrics.pairwise import cosine_similarity\n",
        "from sklearn.compose import ColumnTransformer\n",
        "from sklearn.pipeline import Pipeline\n",
        "from sklearn.impute import SimpleImputer\n",
        "\n",
        "customers = pd.read_csv(\"Customers.csv\")\n",
        "transactions = pd.read_csv(\"Transactions.csv\")\n",
        "products = pd.read_csv(\"Products.csv\")\n",
        "# Merge datasets\n",
        "merged = transactions.merge(customers, on=\"CustomerID\").merge(products, on=\"ProductID\")\n",
        "\n",
        "# Create customer-level features\n",
        "customer_features = (\n",
        "    merged.groupby(\"CustomerID\")\n",
        "    .agg(\n",
        "        TotalSpending=(\"TotalValue\", \"sum\"),\n",
        "        AvgSpending=(\"TotalValue\", \"mean\"),\n",
        "        TransactionCount=(\"TransactionID\", \"count\"),\n",
        "        UniqueProducts=(\"ProductID\", \"nunique\"),\n",
        "        UniqueCategories=(\"Category\", \"nunique\"),\n",
        "    )\n",
        "    .reset_index()\n",
        ")\n",
        "\n",
        "# HANDLING CATEGORICAL DATA\n",
        "encoder = OneHotEncoder(drop='first')  # , sparse=False)\n",
        "encoded_categories = encoder.fit_transform(customer_features[['UniqueCategories']]).toarray()\n",
        "\n",
        "#SCALING NUMERICAL DATA\n",
        "numerical_features = customer_features.drop(columns=['CustomerID', 'UniqueCategories'])\n",
        "scaler = StandardScaler()\n",
        "scaled_numerical_features = scaler.fit_transform(numerical_features)\n",
        "\n",
        "# Combine the features\n",
        "features = np.hstack([scaled_numerical_features, encoded_categories])\n",
        "\n",
        "# SIMILARITY\n",
        "def get_similar_customers(user_id, top_n=3):\n",
        "    user_index = customer_features[customer_features['CustomerID'] == user_id].index[0]\n",
        "    similarity_matrix = cosine_similarity(features)\n",
        "    scores = list(enumerate(similarity_matrix[user_index]))\n",
        "\n",
        "    # Sort by similarity (highest first), excluding self (similarity with self will be 1)\n",
        "    scores = sorted(scores, key=lambda x: x[1], reverse=True)\n",
        "    top_scores = scores[1:top_n + 1]\n",
        "\n",
        "    # Get the customer IDs of the top N most similar customers\n",
        "    similar_customers = [(customer_features.iloc[i[0]]['CustomerID'], round(i[1], 4)) for i in top_scores]\n",
        "\n",
        "    return similar_customers\n",
        "\n",
        "# LOOKALIKES FOR FIRST 20 CUSTOMERS\n",
        "lookalike_map = {}\n",
        "for customer_id in customer_features['CustomerID'][:20]:\n",
        "    top_lookalikes = get_similar_customers(customer_id)\n",
        "\n",
        "    # Map customer ID to their top 3 lookalikes\n",
        "    lookalike_map[customer_id] = [{'CustomerID': lookalike[0], 'SimilarityScore': lookalike[1]} for lookalike in top_lookalikes]\n",
        "\n",
        "# CSV\n",
        "# Convert the lookalike map to DataFrame for saving as CSV\n",
        "lookalike_df = pd.DataFrame({\n",
        "    'CustomerID': list(lookalike_map.keys()),\n",
        "    'Lookalikes': [str(lookalikes) for lookalikes in lookalike_map.values()]\n",
        "})\n",
        "\n",
        "# Save to CSV\n",
        "lookalike_df.to_csv(\"PRIYANKA_BANSAL_Lookalike\", index=False)\n",
        "\n",
        "print(\"Lookalike results saved as 'PRIYANKA_BANSAL_Lookalike.csv'.\")\n",
        "\n",
        "# TOP 3 LOOKALIKES\n",
        "# USER INPUT FOR CUSTOMER ID\n",
        "user_id = input(\"Enter the Customer ID for Lookalike Recommendation: \")\n",
        "\n",
        "# Ensure the entered customer ID exists\n",
        "if user_id not in customer_features[\"CustomerID\"].values:\n",
        "    print(\"Invalid Customer ID. Please try again with a valid ID.\")\n",
        "else:\n",
        "    # RECOMMEND TOP 3 LOOKALIKES\n",
        "    top_lookalikes = get_similar_customers(user_id)\n",
        "\n",
        "    #OUTPUT SIMILAR CUSTOMERS\n",
        "    print(f\"Top 3 Lookalikes for Customer {user_id}:\")\n",
        "    for idx, (lookalike_id, score) in enumerate(top_lookalikes, 1):\n",
        "        print(f\"{idx}. Customer {lookalike_id} with Similarity Score: {score}\")\n",
        "\n"
      ],
      "metadata": {
        "colab": {
          "base_uri": "https://localhost:8080/"
        },
        "id": "vxHstPvb-iY0",
        "outputId": "787585f7-79f1-42dd-baf3-38de3acc97c1"
      },
      "execution_count": null,
      "outputs": [
        {
          "output_type": "stream",
          "name": "stdout",
          "text": [
            "Lookalike results saved as 'PRIYANKA_BANSAL_Lookalike.csv'.\n"
          ]
        }
      ]
    }
  ]
}